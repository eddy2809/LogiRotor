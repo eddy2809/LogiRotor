{
 "cells": [
  {
   "cell_type": "code",
   "execution_count": 1,
   "id": "f0677cf7",
   "metadata": {},
   "outputs": [],
   "source": [
    "import pandas as pd\n",
    "from path_planner import *\n",
    "from lib.dds.dds import *"
   ]
  },
  {
   "cell_type": "code",
   "execution_count": 2,
   "id": "5224d5f6",
   "metadata": {},
   "outputs": [],
   "source": [
    "df = pd.read_csv('coordinates.csv', sep=';')"
   ]
  },
  {
   "cell_type": "code",
   "execution_count": 3,
   "id": "bce1812e",
   "metadata": {},
   "outputs": [],
   "source": [
    "#planner = PathPlanner(coordinates = [(x, y) for x, y in zip(df['X'], df['Y'])], edges = [(0, 1), (1, 2)])"
   ]
  },
  {
   "cell_type": "code",
   "execution_count": 4,
   "id": "f5f6f291",
   "metadata": {},
   "outputs": [],
   "source": [
    "#planner = PathPlanner([[5.11, -11.89], [5.11, -0.781], [5.11, 10.12], [6.56, 13.44]], [[0, 1], [1, 2], [2, 3]])\n",
    "robot = Multirotor(x_origin = 12.117, y_origin=6.371, z_origin=0.060)\n",
    "#move_list = planner.create_path(robot, 0, 2)"
   ]
  },
  {
   "cell_type": "code",
   "execution_count": 5,
   "id": "90d5327e",
   "metadata": {},
   "outputs": [],
   "source": [
    "move_list = []\n",
    "\n",
    "move_list.insert(0, ZMovement(robot, 1.2))\n",
    "move_list.append(XYMovement(robot, 11.056, 4.197 ))\n",
    "move_list.append(ZMovement(robot, 0.9))\n",
    "move_list.append(AttachMovement(1))\n",
    "move_list.append(AttachMovement(0))\n",
    "move_list.append(ZMovement(robot, 1.2))\n",
    "move_list.append(XYMovement(robot, 12, 6.4 ))\n",
    "move_list.append(ZMovement(robot, 0.9))\n",
    "move_list.append(AttachMovement(2))\n",
    "move_list.append(AttachMovement(0))\n",
    "move_list.append(ZMovement(robot, 2))"
   ]
  },
  {
   "cell_type": "markdown",
   "id": "48a6ec2c",
   "metadata": {},
   "source": []
  },
  {
   "cell_type": "code",
   "execution_count": null,
   "id": "f159f97e",
   "metadata": {},
   "outputs": [
    {
     "name": "stdout",
     "output_type": "stream",
     "text": [
      "FINITO MOVIMENTO\n"
     ]
    }
   ],
   "source": [
    "dpvz = DataPlotter()\n",
    "dpvz.set_x(\"time (seconds)\")\n",
    "dpvz.add_y(\"target_vx\", \"target_vx\")\n",
    "dpvz.add_y(\"current_vx\", \"current_vx\")\n",
    "\n",
    "dpz = DataPlotter()\n",
    "dpz.set_x(\"time (seconds)\")\n",
    "dpz.add_y(\"target_x\", \"target_x\")\n",
    "dpz.add_y(\"current_x\", \"current_x\")\n",
    "\n",
    "move_command = move_list.pop(0)\n",
    "move_command.start()\n",
    "\n",
    "dds = DDS()\n",
    "dds.start()\n",
    "\n",
    "dds.subscribe(['start','tick', 'X', 'Y', 'Z', 'TX', 'TY', 'TZ', 'VX', 'VY', 'VZ', 'WX', 'WY', 'WZ'])\n",
    "\n",
    "\n",
    "t = Time(use_fake_time=False)\n",
    "t.start()\n",
    "\n",
    "while True:\n",
    "    dds.wait('tick')\n",
    "    delta_t = t.elapsed()\n",
    "    \n",
    "    z = dds.read('Z')\n",
    "    vz = dds.read('VZ')\n",
    "    \n",
    "    x = dds.read('X')\n",
    "    vx = dds.read('VX')\n",
    "    \n",
    "    y = dds.read('Y')\n",
    "    vy = dds.read('VY')\n",
    "    \n",
    "    roll = dds.read('TX')\n",
    "    roll_rate = dds.read('WX')\n",
    "    \n",
    "    pitch = dds.read('TY')\n",
    "    pitch_rate = dds.read('WY')\n",
    "    \n",
    "    if type(move_command) == AttachMovement:\n",
    "        dds.publish('attached', move_command.evaluate(delta_t), DDS.DDS_TYPE_INT)\n",
    "        print(\"ATTACH MOVEMENT\")\n",
    "        \n",
    "        if move_list == []:\n",
    "                print(\"FINITO\")\n",
    "                break\n",
    "            \n",
    "        move_command = move_list.pop(0)\n",
    "        move_command.start()\n",
    "\n",
    "    else:  \n",
    "        (f1, f2, f3, f4) = robot.evaluate(delta_t, z, vz, x, vx, y, vy, roll, roll_rate, pitch, pitch_rate)\n",
    "        move_command.evaluate(delta_t)\n",
    "        \n",
    "        if move_command.movement_done():\n",
    "            print(\"FINITO MOVIMENTO\")\n",
    "            \n",
    "            if move_list == []:\n",
    "                print(\"FINITO\")\n",
    "                break\n",
    "                \n",
    "            move_command = move_list.pop(0)\n",
    "            move_command.start()\n",
    "\n",
    "    dds.publish('f1', f1, DDS.DDS_TYPE_FLOAT)\n",
    "    dds.publish('f2', f2, DDS.DDS_TYPE_FLOAT)\n",
    "    dds.publish('f3', f3, DDS.DDS_TYPE_FLOAT)\n",
    "    dds.publish('f4', f4, DDS.DDS_TYPE_FLOAT)\n",
    "    \n",
    "    dpvz.append_x(t.get())\n",
    "    dpvz.append_y(\"target_vx\", robot.vz_target)\n",
    "    dpvz.append_y(\"current_vx\", vz)\n",
    "\n",
    "    dpz.append_x(t.get())\n",
    "    dpz.append_y(\"target_x\", robot.z_target)\n",
    "    dpz.append_y(\"current_x\", z)\n",
    "\n",
    "\n",
    "dds.publish('f1', 0, DDS.DDS_TYPE_FLOAT)\n",
    "dds.publish('f2', 0, DDS.DDS_TYPE_FLOAT)\n",
    "dds.publish('f3', 0, DDS.DDS_TYPE_FLOAT)\n",
    "dds.publish('f4', 0, DDS.DDS_TYPE_FLOAT)\n",
    "\n",
    "dds.stop()\n",
    "dpvz.plot()\n",
    "dpz.plot()\n",
    "\n",
    "print(\"Done\")"
   ]
  },
  {
   "cell_type": "code",
   "execution_count": null,
   "id": "20db42b9",
   "metadata": {},
   "outputs": [
    {
     "data": {
      "text/plain": [
       "<multirotor.ZMovement at 0x214dea450f0>"
      ]
     },
     "execution_count": 7,
     "metadata": {},
     "output_type": "execute_result"
    }
   ],
   "source": [
    "move_command"
   ]
  },
  {
   "cell_type": "code",
   "execution_count": null,
   "id": "dd6a5c28",
   "metadata": {},
   "outputs": [
    {
     "data": {
      "text/plain": [
       "12.0"
      ]
     },
     "execution_count": 8,
     "metadata": {},
     "output_type": "execute_result"
    }
   ],
   "source": [
    "robot.x_target"
   ]
  },
  {
   "cell_type": "code",
   "execution_count": null,
   "id": "883db788",
   "metadata": {},
   "outputs": [],
   "source": []
  }
 ],
 "metadata": {
  "kernelspec": {
   "display_name": "robotics",
   "language": "python",
   "name": "python3"
  },
  "language_info": {
   "codemirror_mode": {
    "name": "ipython",
    "version": 3
   },
   "file_extension": ".py",
   "mimetype": "text/x-python",
   "name": "python",
   "nbconvert_exporter": "python",
   "pygments_lexer": "ipython3",
   "version": "3.13.5"
  }
 },
 "nbformat": 4,
 "nbformat_minor": 5
}
