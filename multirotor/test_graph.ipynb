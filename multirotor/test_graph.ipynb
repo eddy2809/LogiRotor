{
 "cells": [
  {
   "cell_type": "code",
   "execution_count": 1,
   "id": "4b213627",
   "metadata": {},
   "outputs": [],
   "source": [
    "from control_system import *\n",
    "import pandas as pd\n",
    "from path_planner import *\n",
    "from lib.dds.dds import *"
   ]
  },
  {
   "cell_type": "code",
   "execution_count": 2,
   "id": "a519ac38",
   "metadata": {},
   "outputs": [],
   "source": [
    "controller = ControlSystem(x_origin = 12.117, y_origin=6.371, z_origin=12.117)\n",
    "controller.create_graph('coordinates.csv', 'edges.txt')\n",
    "controller.start(0, 4)\n",
    "move_list = controller.move_list"
   ]
  },
  {
   "cell_type": "code",
   "execution_count": null,
   "id": "24d8c5a3",
   "metadata": {},
   "outputs": [],
   "source": [
    "robot = controller.robot"
   ]
  },
  {
   "cell_type": "code",
   "execution_count": null,
   "id": "f1a10ca8",
   "metadata": {},
   "outputs": [
    {
     "name": "stdout",
     "output_type": "stream",
     "text": [
      "FINITO MOVIMENTO\n"
     ]
    }
   ],
   "source": [
    "dpvz = DataPlotter()\n",
    "dpvz.set_x(\"time (seconds)\")\n",
    "dpvz.add_y(\"target_vx\", \"target_vx\")\n",
    "dpvz.add_y(\"current_vx\", \"current_vx\")\n",
    "\n",
    "dpz = DataPlotter()\n",
    "dpz.set_x(\"time (seconds)\")\n",
    "dpz.add_y(\"target_x\", \"target_x\")\n",
    "dpz.add_y(\"current_x\", \"current_x\")\n",
    "\n",
    "move_command = move_list.pop(0)\n",
    "move_command.start()\n",
    "\n",
    "dds = DDS()\n",
    "dds.start()\n",
    "\n",
    "dds.subscribe(['start','tick', 'X', 'Y', 'Z', 'TX', 'TY', 'TZ', 'VX', 'VY', 'VZ', 'WX', 'WY', 'WZ'])\n",
    "\n",
    "\n",
    "t = Time(use_fake_time=False)\n",
    "t.start()\n",
    "\n",
    "while True:\n",
    "    dds.wait('tick')\n",
    "    delta_t = t.elapsed()\n",
    "    \n",
    "    z = dds.read('Z')\n",
    "    vz = dds.read('VZ')\n",
    "    \n",
    "    x = dds.read('X')\n",
    "    vx = dds.read('VX')\n",
    "    \n",
    "    y = dds.read('Y')\n",
    "    vy = dds.read('VY')\n",
    "    \n",
    "    roll = dds.read('TX')\n",
    "    roll_rate = dds.read('WX')\n",
    "    \n",
    "    pitch = dds.read('TY')\n",
    "    pitch_rate = dds.read('WY')\n",
    "    \n",
    "    if type(move_command) == AttachMovement:\n",
    "        dds.publish('attached', move_command.evaluate(delta_t), DDS.DDS_TYPE_INT)\n",
    "        print(\"ATTACH MOVEMENT\")\n",
    "        \n",
    "        if move_list == []:\n",
    "                print(\"FINITO\")\n",
    "                break\n",
    "            \n",
    "        move_command = move_list.pop(0)\n",
    "        move_command.start()\n",
    "\n",
    "    else:  \n",
    "        (f1, f2, f3, f4) = robot.evaluate(delta_t, z, vz, x, vx, y, vy, roll, roll_rate, pitch, pitch_rate)\n",
    "        move_command.evaluate(delta_t)\n",
    "        \n",
    "        if move_command.movement_done():\n",
    "            print(\"FINITO MOVIMENTO\")\n",
    "            \n",
    "            if move_list == []:\n",
    "                print(\"FINITO\")\n",
    "                break\n",
    "                \n",
    "            move_command = move_list.pop(0)\n",
    "            move_command.start()\n",
    "\n",
    "    dds.publish('f1', f1, DDS.DDS_TYPE_FLOAT)\n",
    "    dds.publish('f2', f2, DDS.DDS_TYPE_FLOAT)\n",
    "    dds.publish('f3', f3, DDS.DDS_TYPE_FLOAT)\n",
    "    dds.publish('f4', f4, DDS.DDS_TYPE_FLOAT)\n",
    "    \n",
    "    dpvz.append_x(t.get())\n",
    "    dpvz.append_y(\"target_vx\", robot.vz_target)\n",
    "    dpvz.append_y(\"current_vx\", vz)\n",
    "\n",
    "    dpz.append_x(t.get())\n",
    "    dpz.append_y(\"target_x\", robot.z_target)\n",
    "    dpz.append_y(\"current_x\", z)\n",
    "\n",
    "\n",
    "dds.publish('f1', 0, DDS.DDS_TYPE_FLOAT)\n",
    "dds.publish('f2', 0, DDS.DDS_TYPE_FLOAT)\n",
    "dds.publish('f3', 0, DDS.DDS_TYPE_FLOAT)\n",
    "dds.publish('f4', 0, DDS.DDS_TYPE_FLOAT)\n",
    "\n",
    "dds.stop()\n",
    "dpvz.plot()\n",
    "dpz.plot()\n",
    "\n",
    "print(\"Done\")"
   ]
  }
 ],
 "metadata": {
  "kernelspec": {
   "display_name": "robotics",
   "language": "python",
   "name": "python3"
  },
  "language_info": {
   "codemirror_mode": {
    "name": "ipython",
    "version": 3
   },
   "file_extension": ".py",
   "mimetype": "text/x-python",
   "name": "python",
   "nbconvert_exporter": "python",
   "pygments_lexer": "ipython3",
   "version": "3.13.5"
  }
 },
 "nbformat": 4,
 "nbformat_minor": 5
}
