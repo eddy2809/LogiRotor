{
 "cells": [
  {
   "cell_type": "code",
   "execution_count": 29,
   "id": "02494ab5",
   "metadata": {},
   "outputs": [],
   "source": [
    "from dijkstar import *\n",
    "import math"
   ]
  },
  {
   "cell_type": "code",
   "execution_count": 30,
   "id": "5d79d300",
   "metadata": {},
   "outputs": [],
   "source": [
    "class NavigationNode():\n",
    "    def __init__(self, x, y):\n",
    "        self.x = x\n",
    "        self.y = y\n",
    "    def get_coordinates(self):\n",
    "        return (self.x, self.y)"
   ]
  },
  {
   "cell_type": "code",
   "execution_count": null,
   "id": "6e9bf954",
   "metadata": {},
   "outputs": [],
   "source": [
    "def euclidean_distance(node1, node2):\n",
    "    return math.sqrt((node1[0] - node2[0])**2 + (node1[1] - node2[1])**2)"
   ]
  },
  {
   "cell_type": "code",
   "execution_count": 32,
   "id": "6feaa5a7",
   "metadata": {},
   "outputs": [],
   "source": [
    "graph = Graph()"
   ]
  },
  {
   "cell_type": "code",
   "execution_count": null,
   "id": "a819e7c2",
   "metadata": {},
   "outputs": [
    {
     "ename": "TypeError",
     "evalue": "unhashable type: 'dict'",
     "output_type": "error",
     "traceback": [
      "\u001b[31m---------------------------------------------------------------------------\u001b[39m",
      "\u001b[31mTypeError\u001b[39m                                 Traceback (most recent call last)",
      "\u001b[36mCell\u001b[39m\u001b[36m \u001b[39m\u001b[32mIn[33]\u001b[39m\u001b[32m, line 4\u001b[39m\n\u001b[32m      1\u001b[39m node1 = {\u001b[33m\"\u001b[39m\u001b[33mx\u001b[39m\u001b[33m\"\u001b[39m: \u001b[32m1\u001b[39m, \u001b[33m\"\u001b[39m\u001b[33my\u001b[39m\u001b[33m\"\u001b[39m: \u001b[32m1\u001b[39m}\n\u001b[32m      2\u001b[39m node2 = {\u001b[33m\"\u001b[39m\u001b[33mx\u001b[39m\u001b[33m\"\u001b[39m: \u001b[32m2\u001b[39m, \u001b[33m\"\u001b[39m\u001b[33my\u001b[39m\u001b[33m\"\u001b[39m: \u001b[32m3\u001b[39m}\n\u001b[32m----> \u001b[39m\u001b[32m4\u001b[39m \u001b[43mgraph\u001b[49m\u001b[43m.\u001b[49m\u001b[43madd_edge\u001b[49m\u001b[43m(\u001b[49m\u001b[43mnode1\u001b[49m\u001b[43m,\u001b[49m\u001b[43m \u001b[49m\u001b[43mnode2\u001b[49m\u001b[43m,\u001b[49m\u001b[43m \u001b[49m\u001b[43meuclidean_distance\u001b[49m\u001b[43m(\u001b[49m\u001b[43mnode1\u001b[49m\u001b[43m,\u001b[49m\u001b[43m \u001b[49m\u001b[43mnode2\u001b[49m\u001b[43m)\u001b[49m\u001b[43m)\u001b[49m\n",
      "\u001b[36mFile \u001b[39m\u001b[32mc:\\Users\\Raffaele\\anaconda3\\envs\\robotics\\Lib\\site-packages\\dijkstar\\graph.py:102\u001b[39m, in \u001b[36mGraph.add_edge\u001b[39m\u001b[34m(self, u, v, edge)\u001b[39m\n\u001b[32m     99\u001b[39m incoming = \u001b[38;5;28mself\u001b[39m._incoming\n\u001b[32m    100\u001b[39m undirected = \u001b[38;5;28mself\u001b[39m._undirected\n\u001b[32m--> \u001b[39m\u001b[32m102\u001b[39m \u001b[38;5;28;01mif\u001b[39;00m \u001b[43mu\u001b[49m\u001b[43m \u001b[49m\u001b[38;5;129;43;01min\u001b[39;49;00m\u001b[43m \u001b[49m\u001b[43mdata\u001b[49m:\n\u001b[32m    103\u001b[39m     neighbors = data[u]\n\u001b[32m    104\u001b[39m     neighbors[v] = edge\n",
      "\u001b[31mTypeError\u001b[39m: unhashable type: 'dict'"
     ]
    }
   ],
   "source": [
    "node1 = [1, 1]\n",
    "node2 = {2, 3}\n",
    "\n",
    "graph.add_edge(node1, node2, euclidean_distance(node1, node2))\n"
   ]
  },
  {
   "cell_type": "code",
   "execution_count": null,
   "id": "0e5bd97e",
   "metadata": {},
   "outputs": [
    {
     "data": {
      "text/plain": [
       "[<__main__.NavigationNode at 0x1c6c2d32710>,\n",
       " <__main__.NavigationNode at 0x1c6c2a875c0>]"
      ]
     },
     "execution_count": 23,
     "metadata": {},
     "output_type": "execute_result"
    }
   ],
   "source": [
    "find_path(graph,node1, node2).nodes"
   ]
  },
  {
   "cell_type": "code",
   "execution_count": null,
   "id": "98575cb7",
   "metadata": {},
   "outputs": [],
   "source": []
  }
 ],
 "metadata": {
  "kernelspec": {
   "display_name": "robotics",
   "language": "python",
   "name": "python3"
  },
  "language_info": {
   "codemirror_mode": {
    "name": "ipython",
    "version": 3
   },
   "file_extension": ".py",
   "mimetype": "text/x-python",
   "name": "python",
   "nbconvert_exporter": "python",
   "pygments_lexer": "ipython3",
   "version": "3.13.5"
  }
 },
 "nbformat": 4,
 "nbformat_minor": 5
}
